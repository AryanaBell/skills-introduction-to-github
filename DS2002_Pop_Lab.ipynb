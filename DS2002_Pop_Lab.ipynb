{
  "nbformat": 4,
  "nbformat_minor": 0,
  "metadata": {
    "colab": {
      "provenance": [],
      "authorship_tag": "ABX9TyN99HiQ1KnETMymHbp8XMNi",
      "include_colab_link": true
    },
    "kernelspec": {
      "name": "python3",
      "display_name": "Python 3"
    },
    "language_info": {
      "name": "python"
    }
  },
  "cells": [
    {
      "cell_type": "markdown",
      "metadata": {
        "id": "view-in-github",
        "colab_type": "text"
      },
      "source": [
        "<a href=\"https://colab.research.google.com/github/AryanaBell/skills-introduction-to-github/blob/main/DS2002_Pop_Lab.ipynb\" target=\"_parent\"><img src=\"https://colab.research.google.com/assets/colab-badge.svg\" alt=\"Open In Colab\"/></a>"
      ]
    },
    {
      "cell_type": "code",
      "execution_count": 3,
      "metadata": {
        "colab": {
          "base_uri": "https://localhost:8080/"
        },
        "id": "isz3BPif7lVc",
        "outputId": "0da15a1d-2656-49bb-ed47-eb7a88d42bda"
      },
      "outputs": [
        {
          "output_type": "stream",
          "name": "stdout",
          "text": [
            "N350XX: Cairo International Airport , Frankfurt International Airport\n",
            "N621MM: Cairo International Airport , Frankfurt International Airport\n"
          ]
        }
      ],
      "source": [
        "import json\n",
        "import pandas as pd\n",
        "import requests\n",
        "\n",
        "\n",
        "api_key = \"\"\n",
        "\n",
        "for plane in [\"N350XX\", \"N621MM\"]:  # Tom Cruise and Taylor Swift's tail number\n",
        "    r = requests.get(f\"http://api.aviationstack.com/v1/flights?access_key={api_key}&reg_number={plane}\")\n",
        "    d = r.json().get(\"data\", [{}])[0]  # Get first (most recent) flight\n",
        "    print(f\"{plane}: {d.get('departure').get('airport')} , {d.get('arrival').get('airport')}\")"
      ]
    }
  ]
}