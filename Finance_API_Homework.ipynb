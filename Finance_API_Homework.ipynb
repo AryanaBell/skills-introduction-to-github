{
  "nbformat": 4,
  "nbformat_minor": 0,
  "metadata": {
    "colab": {
      "provenance": [],
      "authorship_tag": "ABX9TyMIG9oRmHsfqOwZB6o6jzAR",
      "include_colab_link": true
    },
    "kernelspec": {
      "name": "python3",
      "display_name": "Python 3"
    },
    "language_info": {
      "name": "python"
    }
  },
  "cells": [
    {
      "cell_type": "markdown",
      "metadata": {
        "id": "view-in-github",
        "colab_type": "text"
      },
      "source": [
        "<a href=\"https://colab.research.google.com/github/AryanaBell/skills-introduction-to-github/blob/main/Finance_API_Homework.ipynb\" target=\"_parent\"><img src=\"https://colab.research.google.com/assets/colab-badge.svg\" alt=\"Open In Colab\"/></a>"
      ]
    },
    {
      "cell_type": "code",
      "execution_count": 18,
      "metadata": {
        "colab": {
          "base_uri": "https://localhost:8080/"
        },
        "id": "ehcQ8jQ75HsU",
        "outputId": "62ee7893-3f6f-4e44-e5bc-88618dfeeb2e"
      },
      "outputs": [
        {
          "output_type": "stream",
          "name": "stdout",
          "text": [
            "Enter two or more stock symbols separated by commas: AAPL,MSFT\n",
            "Stock Ticker: AAPL, Company: Apple Inc., Current Market Price: $240.36\n",
            "Stock Ticker: MSFT, Company: Microsoft Corporation, Current Market Price: $399.73\n"
          ]
        }
      ],
      "source": [
        "import requests\n",
        "import json\n",
        "import pandas as pd\n",
        "\n",
        "# API Key\n",
        "apikey = \"\"\n",
        "\n",
        "# Task 1: Get Stock Data\n",
        "stocks = input(\"Enter two or more stock symbols separated by commas: \")\n",
        "url = \"https://yfapi.net/v6/finance/quote\"\n",
        "querystring = {\"symbols\": stocks}\n",
        "headers = {'x-api-key': apikey}\n",
        "\n",
        "response = requests.get(url, headers=headers, params=querystring)\n",
        "data = response.json().get('quoteResponse', {}).get('result', [])\n",
        "\n",
        "for stock in data: #Extract and display only the Stock Ticker, Company Name, and Current Market Price.\n",
        "    print(f\"Stock Ticker: {stock['symbol']}, Company: {stock.get('shortName', 'N/A')}, Current Market Price: ${stock.get('regularMarketPrice', 'N/A')}\")\n",
        "\n"
      ]
    },
    {
      "cell_type": "code",
      "source": [
        "import requests\n",
        "import json\n",
        "import pandas as pd\n",
        "\n",
        "# API key\n",
        "apikey = \"\"\n",
        "headers = {'x-api-key': apikey}\n",
        "\n",
        "# Task 2.1: Fetch Additional Data Using Modules\n",
        "stock = input(\"Enter stock symbol: \") #Ex: AAPL, MSFT, etc\n",
        "module = input(\"Enter module (ex: summaryDetail, financialData, etc): \")\n",
        "if module not in [\"summaryDetail\", \"financialData\"]:\n",
        "    module = \"summaryDetail\" #if user doesn't enter a module, it defaults to summaryDetail\n",
        "\n",
        "url = f\"https://yfapi.net/v11/finance/quoteSummary/{stock}\"\n",
        "querystring = {\"modules\": module}\n",
        "response = requests.get(url, headers=headers, params=querystring)\n",
        "data = response.json()\n",
        "\n",
        "result = data.get('quoteSummary', {}).get('result', [{}])[0]\n",
        "high_52 = result.get('summaryDetail', {}).get('fiftyTwoWeekHigh', {}).get('raw', \"N/A\")\n",
        "low_52 = result.get('summaryDetail', {}).get('fiftyTwoWeekLow', {}).get('raw', \"N/A\")\n",
        "roa = result.get('financialData', {}).get('returnOnAssets', {}).get('raw', \"N/A\")\n",
        "\n",
        "df = pd.DataFrame({\"52 Week High\": [high_52], \"52 Week Low\": [low_52], \"ROA\": [roa]}) #puts the data in a pandas data frame\n",
        "print(df)"
      ],
      "metadata": {
        "colab": {
          "base_uri": "https://localhost:8080/"
        },
        "id": "iDsV-1vg5Rb1",
        "outputId": "adcbc4ba-e5ca-4e75-fc49-e45d771efd5e"
      },
      "execution_count": 19,
      "outputs": [
        {
          "output_type": "stream",
          "name": "stdout",
          "text": [
            "Enter stock symbol: AAPL\n",
            "Enter module (ex: summaryDetail, financialData, etc: summaryDetail\n",
            "   52 Week High  52 Week Low  ROA\n",
            "0         260.1       164.08  N/A\n"
          ]
        }
      ]
    },
    {
      "cell_type": "code",
      "source": [
        "import requests\n",
        "import pandas as pd\n",
        "import json\n",
        "\n",
        "apikey = \"\" #API key\n",
        "\n",
        "#Task 2.2 Extract and display only the Stock Ticker, Company Name, and Current Market Price.\n",
        "\n",
        "url = \"https://yfapi.net/v1/finance/trending/US\"\n",
        "\n",
        "headers = {\n",
        "    'x-api-key': apikey\n",
        "}\n",
        "\n",
        "response = requests.get(url, headers=headers)\n",
        "data = response.json()\n",
        "\n",
        "trending_tickers = [item['symbol'] for item in data['finance']['result'][0]['quotes']]\n",
        "\n",
        "querystring = {\"symbols\": \",\".join(trending_tickers)}\n",
        "\n",
        "quote_url = \"https://yfapi.net/v6/finance/quote\"\n",
        "\n",
        "response = requests.get(quote_url, headers=headers, params=querystring)\n",
        "quote_data = response.json()\n",
        "\n",
        "df = pd.DataFrame(quote_data['quoteResponse']['result']) #converts the data into a pandas data frame\n",
        "\n",
        "df = df[['symbol', 'shortName', 'regularMarketPrice', 'fiftyTwoWeekHigh', 'fiftyTwoWeekLow']]\n",
        "df.columns = ['Ticker', 'Name', 'Current Price', '52-Week High', '52-Week Low']\n",
        "\n",
        "print(df)\n"
      ],
      "metadata": {
        "colab": {
          "base_uri": "https://localhost:8080/"
        },
        "id": "2FO7I9LQ5VDJ",
        "outputId": "0d15cbb1-4179-4c2d-db3b-bfbae62cdbbe"
      },
      "execution_count": 20,
      "outputs": [
        {
          "output_type": "stream",
          "name": "stdout",
          "text": [
            "     Ticker                             Name  Current Price  52-Week High  \\\n",
            "0      NVDA               NVIDIA Corporation         131.28       153.130   \n",
            "1       CRM                 Salesforce, Inc.         307.33       369.000   \n",
            "2      SNOW                   Snowflake Inc.         166.19       194.400   \n",
            "3      IONQ                       IonQ, Inc.          29.93        54.740   \n",
            "4      BYND                Beyond Meat, Inc.           3.56        11.700   \n",
            "5      MRNA                    Moderna, Inc.          33.58       170.470   \n",
            "6      TDOC             Teladoc Health, Inc.          10.99        15.950   \n",
            "7      MARA              MARA Holdings, Inc.          12.45        30.710   \n",
            "8        AI                      C3.ai, Inc.          26.44        45.080   \n",
            "9       NIO                         NIO Inc.           4.72         7.710   \n",
            "10      APP             Applovin Corporation         331.00       525.150   \n",
            "11      PBR  Petroleo Brasileiro S.A.- Petro          14.32        17.440   \n",
            "12     NTNX                    Nutanix, Inc.          69.35        75.800   \n",
            "13     ROOT                       Root, Inc.          98.71       141.227   \n",
            "14     EBAY                        eBay Inc.          69.14        71.610   \n",
            "15     MULN          Mullen Automotive, Inc.           4.04     47100.000   \n",
            "16     SNPS                   Synopsys, Inc.         470.46       624.800   \n",
            "17     PSTG               Pure Storage, Inc.          62.44        73.670   \n",
            "18  1299.HK                              AIA          60.75        74.600   \n",
            "19     JOBY              Joby Aviation, Inc.           6.70        10.720   \n",
            "\n",
            "    52-Week Low  \n",
            "0        75.606  \n",
            "1       212.000  \n",
            "2       107.130  \n",
            "3         6.220  \n",
            "4         3.300  \n",
            "5        29.250  \n",
            "6         6.760  \n",
            "7        12.050  \n",
            "8        18.850  \n",
            "9         3.610  \n",
            "10       57.400  \n",
            "11       12.550  \n",
            "12       43.350  \n",
            "13       27.240  \n",
            "14       46.980  \n",
            "15        2.290  \n",
            "16      457.000  \n",
            "17       44.760  \n",
            "18       45.250  \n",
            "19        4.500  \n"
          ]
        }
      ]
    },
    {
      "cell_type": "code",
      "source": [
        "import json\n",
        "import requests\n",
        "\n",
        "api_key = \"\"  # My AviationStack API key\n",
        "\n",
        "# Elon Musk's tail number\n",
        "planes = [\"N628TS\"]\n",
        "\n",
        "for plane in planes:\n",
        "    r = requests.get(f\"http://api.aviationstack.com/v1/flights?access_key={api_key}&reg_number={plane}\")\n",
        "    d = r.json().get(\"data\", [{}])[0]  # Get first (most recent) flight\n",
        "\n",
        "    departure = d.get(\"departure\", {}).get(\"airport\", \"No departure data\")\n",
        "    arrival = d.get(\"arrival\", {}).get(\"airport\", \"No arrival data\")\n",
        "\n",
        "    print(f\"{plane}: {departure} → {arrival}\")\n"
      ],
      "metadata": {
        "colab": {
          "base_uri": "https://localhost:8080/"
        },
        "id": "Y_6ACwscMJhB",
        "outputId": "9a267560-4545-4bd1-d67c-84ce58f9ab82"
      },
      "execution_count": 21,
      "outputs": [
        {
          "output_type": "stream",
          "name": "stdout",
          "text": [
            "N628TS: Jinjiang → Changzhou\n"
          ]
        }
      ]
    }
  ]
}